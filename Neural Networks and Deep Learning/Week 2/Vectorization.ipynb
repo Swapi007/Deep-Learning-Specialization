import numpy as np
import time

a=np.random.rand(1000000)
b=np.random.rand(1000000)
start = time.time()

#Using vectorization

c=np.dot(a,b)
end = time.time()

print("Time taken during vectorization: "+str(1000*(end-start))+" ms")

# Using loops

start = time.time()
for i in range(1000000):
    c+=a[i]*b[i]

end = time.time()
print("Time taken during loops: "+str(1000*(end-start))+" ms")
    
